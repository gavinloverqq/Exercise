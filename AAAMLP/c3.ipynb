{
 "cells": [
  {
   "cell_type": "markdown",
   "metadata": {},
   "source": [
    "string 分割成单词成为tokenization\n",
    "\n",
    "Splitting a string into a list of words is known as tokenization. One of the most popular tokenization comes from NLTK (Natural Language Tool Kit)."
   ]
  },
  {
   "cell_type": "code",
   "execution_count": 1,
   "metadata": {},
   "outputs": [],
   "source": [
    "import os\n",
    "os.environ['all_proxy'] = \"socks5://127.0.0.1:10808\""
   ]
  },
  {
   "cell_type": "markdown",
   "metadata": {},
   "source": [
    "bow\n",
    "词袋： 每个词在语料库的频率"
   ]
  },
  {
   "cell_type": "code",
   "execution_count": 2,
   "metadata": {},
   "outputs": [
    {
     "name": "stdout",
     "output_type": "stream",
     "text": [
      "showing info https://raw.githubusercontent.com/nltk/nltk_data/gh-pages/index.xml\n"
     ]
    },
    {
     "data": {
      "text/plain": [
       "True"
      ]
     },
     "execution_count": 2,
     "metadata": {},
     "output_type": "execute_result"
    }
   ],
   "source": [
    "import nltk\n",
    "# nltk.set_proxy(\"socks5://127.0.0.1:10808\")\n",
    "# https://zhuanlan.zhihu.com/p/599003991 手动下载\n",
    "nltk.download()"
   ]
  },
  {
   "cell_type": "code",
   "execution_count": 2,
   "metadata": {},
   "outputs": [
    {
     "data": {
      "text/plain": [
       "['hi', ',', 'how', 'are', 'you', '?']"
      ]
     },
     "execution_count": 2,
     "metadata": {},
     "output_type": "execute_result"
    }
   ],
   "source": [
    "from nltk.tokenize import word_tokenize\n",
    "sentence = \"hi, how are you?\"\n",
    "sentence.split()\n",
    "word_tokenize(sentence)"
   ]
  },
  {
   "cell_type": "code",
   "execution_count": 3,
   "metadata": {},
   "outputs": [],
   "source": [
    "from sklearn.feature_extraction.text import CountVectorizer\n",
    "# create a corpus of sentences\n",
    "corpus = [\n",
    "    \"hello, how are you?\",\n",
    "    \"im getting bored at home. And you? What do you think?\",\n",
    "    \"did you know about counts\",\n",
    "    \"let's see if this works!\",\n",
    "    \"YES!!!!\"\n",
    "]\n",
    "# initialize CountVectorizer\n",
    "ctv = CountVectorizer()\n",
    "# fit the vectorizer on corpus\n",
    "ctv.fit(corpus)\n",
    "corpus_transformed = ctv.transform(corpus)"
   ]
  },
  {
   "cell_type": "code",
   "execution_count": 5,
   "metadata": {},
   "outputs": [
    {
     "name": "stdout",
     "output_type": "stream",
     "text": [
      "  (0, 2)\t1\n",
      "  (0, 9)\t1\n",
      "  (0, 11)\t1\n",
      "  (0, 22)\t1\n",
      "  (1, 1)\t1\n",
      "  (1, 3)\t1\n",
      "  (1, 4)\t1\n",
      "  (1, 7)\t1\n",
      "  (1, 8)\t1\n",
      "  (1, 10)\t1\n",
      "  (1, 13)\t1\n",
      "  (1, 17)\t1\n",
      "  (1, 19)\t1\n",
      "  (1, 22)\t2\n",
      "  (2, 0)\t1\n",
      "  (2, 5)\t1\n",
      "  (2, 6)\t1\n",
      "  (2, 14)\t1\n",
      "  (2, 22)\t1\n",
      "  (3, 12)\t1\n",
      "  (3, 15)\t1\n",
      "  (3, 16)\t1\n",
      "  (3, 18)\t1\n",
      "  (3, 20)\t1\n",
      "  (4, 21)\t1\n"
     ]
    }
   ],
   "source": [
    "print(corpus_transformed)"
   ]
  },
  {
   "cell_type": "code",
   "execution_count": 6,
   "metadata": {},
   "outputs": [
    {
     "name": "stdout",
     "output_type": "stream",
     "text": [
      "{'hello': 9, 'how': 11, 'are': 2, 'you': 22, 'im': 13, 'getting': 8, 'bored': 4, 'at': 3, 'home': 10, 'and': 1, 'what': 19, 'do': 7, 'think': 17, 'did': 6, 'know': 14, 'about': 0, 'counts': 5, 'let': 15, 'see': 16, 'if': 12, 'this': 18, 'works': 20, 'yes': 21}\n"
     ]
    }
   ],
   "source": [
    "print(ctv.vocabulary_)"
   ]
  },
  {
   "cell_type": "code",
   "execution_count": 7,
   "metadata": {},
   "outputs": [
    {
     "name": "stdout",
     "output_type": "stream",
     "text": [
      "{'hello': 14, ',': 2, 'how': 16, 'are': 7, 'you': 27, '?': 4, 'im': 18, 'getting': 13, 'bored': 9, 'at': 8, 'home': 15, '.': 3, 'and': 6, 'what': 24, 'do': 12, 'think': 22, 'did': 11, 'know': 19, 'about': 5, 'counts': 10, 'let': 20, \"'s\": 1, 'see': 21, 'if': 17, 'this': 23, 'works': 25, '!': 0, 'yes': 26}\n"
     ]
    }
   ],
   "source": [
    "from sklearn.feature_extraction.text import CountVectorizer\n",
    "from nltk.tokenize import word_tokenize\n",
    "# create a corpus of sentences\n",
    "corpus = [\n",
    "\"hello, how are you?\",\n",
    "\"im getting bored at home. And you? What do you think?\",\n",
    "\"did you know about counts\",\n",
    "\"let's see if this works!\",\n",
    "\"YES!!!!\"\n",
    "]\n",
    "# initialize CountVectorizer with word_tokenize from nltk\n",
    "# as the tokenizer\n",
    "ctv = CountVectorizer(tokenizer=word_tokenize, token_pattern=None)\n",
    "# fit the vectorizer on corpus\n",
    "ctv.fit(corpus)\n",
    "corpus_transformed = ctv.transform(corpus)\n",
    "print(ctv.vocabulary_)"
   ]
  },
  {
   "cell_type": "code",
   "execution_count": 8,
   "metadata": {},
   "outputs": [
    {
     "name": "stderr",
     "output_type": "stream",
     "text": [
      "/home/frog/anaconda3/envs/learning_dl/lib/python3.11/site-packages/sklearn/linear_model/_logistic.py:458: ConvergenceWarning: lbfgs failed to converge (status=1):\n",
      "STOP: TOTAL NO. of ITERATIONS REACHED LIMIT.\n",
      "\n",
      "Increase the number of iterations (max_iter) or scale the data as shown in:\n",
      "    https://scikit-learn.org/stable/modules/preprocessing.html\n",
      "Please also refer to the documentation for alternative solver options:\n",
      "    https://scikit-learn.org/stable/modules/linear_model.html#logistic-regression\n",
      "  n_iter_i = _check_optimize_result(\n"
     ]
    },
    {
     "name": "stdout",
     "output_type": "stream",
     "text": [
      "Fold: 0\n",
      "Accuracy = 0.8918\n",
      "\n"
     ]
    },
    {
     "name": "stderr",
     "output_type": "stream",
     "text": [
      "/home/frog/anaconda3/envs/learning_dl/lib/python3.11/site-packages/sklearn/linear_model/_logistic.py:458: ConvergenceWarning: lbfgs failed to converge (status=1):\n",
      "STOP: TOTAL NO. of ITERATIONS REACHED LIMIT.\n",
      "\n",
      "Increase the number of iterations (max_iter) or scale the data as shown in:\n",
      "    https://scikit-learn.org/stable/modules/preprocessing.html\n",
      "Please also refer to the documentation for alternative solver options:\n",
      "    https://scikit-learn.org/stable/modules/linear_model.html#logistic-regression\n",
      "  n_iter_i = _check_optimize_result(\n"
     ]
    },
    {
     "name": "stdout",
     "output_type": "stream",
     "text": [
      "Fold: 1\n",
      "Accuracy = 0.893\n",
      "\n"
     ]
    },
    {
     "name": "stderr",
     "output_type": "stream",
     "text": [
      "/home/frog/anaconda3/envs/learning_dl/lib/python3.11/site-packages/sklearn/linear_model/_logistic.py:458: ConvergenceWarning: lbfgs failed to converge (status=1):\n",
      "STOP: TOTAL NO. of ITERATIONS REACHED LIMIT.\n",
      "\n",
      "Increase the number of iterations (max_iter) or scale the data as shown in:\n",
      "    https://scikit-learn.org/stable/modules/preprocessing.html\n",
      "Please also refer to the documentation for alternative solver options:\n",
      "    https://scikit-learn.org/stable/modules/linear_model.html#logistic-regression\n",
      "  n_iter_i = _check_optimize_result(\n"
     ]
    },
    {
     "name": "stdout",
     "output_type": "stream",
     "text": [
      "Fold: 2\n",
      "Accuracy = 0.8903\n",
      "\n"
     ]
    },
    {
     "name": "stderr",
     "output_type": "stream",
     "text": [
      "/home/frog/anaconda3/envs/learning_dl/lib/python3.11/site-packages/sklearn/linear_model/_logistic.py:458: ConvergenceWarning: lbfgs failed to converge (status=1):\n",
      "STOP: TOTAL NO. of ITERATIONS REACHED LIMIT.\n",
      "\n",
      "Increase the number of iterations (max_iter) or scale the data as shown in:\n",
      "    https://scikit-learn.org/stable/modules/preprocessing.html\n",
      "Please also refer to the documentation for alternative solver options:\n",
      "    https://scikit-learn.org/stable/modules/linear_model.html#logistic-regression\n",
      "  n_iter_i = _check_optimize_result(\n"
     ]
    },
    {
     "name": "stdout",
     "output_type": "stream",
     "text": [
      "Fold: 3\n",
      "Accuracy = 0.8949\n",
      "\n",
      "Fold: 4\n",
      "Accuracy = 0.8921\n",
      "\n"
     ]
    },
    {
     "name": "stderr",
     "output_type": "stream",
     "text": [
      "/home/frog/anaconda3/envs/learning_dl/lib/python3.11/site-packages/sklearn/linear_model/_logistic.py:458: ConvergenceWarning: lbfgs failed to converge (status=1):\n",
      "STOP: TOTAL NO. of ITERATIONS REACHED LIMIT.\n",
      "\n",
      "Increase the number of iterations (max_iter) or scale the data as shown in:\n",
      "    https://scikit-learn.org/stable/modules/preprocessing.html\n",
      "Please also refer to the documentation for alternative solver options:\n",
      "    https://scikit-learn.org/stable/modules/linear_model.html#logistic-regression\n",
      "  n_iter_i = _check_optimize_result(\n"
     ]
    }
   ],
   "source": [
    "# import what we need\n",
    "import pandas as pd\n",
    "from nltk.tokenize import word_tokenize\n",
    "from sklearn import linear_model\n",
    "from sklearn import metrics\n",
    "from sklearn import model_selection\n",
    "from sklearn.feature_extraction.text import CountVectorizer\n",
    "\n",
    "\n",
    "# read the training data\n",
    "df = pd.read_csv(\"./imdb/IMDB Dataset.csv\")\n",
    "# map positive to 1 and negative to 0\n",
    "df.sentiment = df.sentiment.apply(\n",
    "    lambda x: 1 if x == \"positive\" else 0\n",
    ")\n",
    "# we create a new column called kfold and fill it with -1\n",
    "df[\"kfold\"] = -1\n",
    "# the next step is to randomize the rows of the data\n",
    "df = df.sample(frac=1).reset_index(drop=True)\n",
    "# fetch labels\n",
    "y = df.sentiment.values\n",
    "# initiate the kfold class from model_selection module\n",
    "kf = model_selection.StratifiedKFold(n_splits=5)\n",
    "# fill the new kfold column\n",
    "for f, (t_, v_) in enumerate(kf.split(X=df, y=y)):\n",
    "    df.loc[v_, 'kfold'] = f\n",
    "# we go over the folds created\n",
    "for fold_ in range(5):\n",
    "    # temporary dataframes for train and test\n",
    "    train_df = df[df.kfold != fold_].reset_index(drop=True)\n",
    "\n",
    "    test_df = df[df.kfold == fold_].reset_index(drop=True)\n",
    "    # initialize CountVectorizer with NLTK's word_tokenize\n",
    "    # function as tokenizer\n",
    "    count_vec = CountVectorizer(\n",
    "        tokenizer=word_tokenize,\n",
    "        token_pattern=None\n",
    "    )\n",
    "    # fit count_vec on training data reviews\n",
    "    count_vec.fit(train_df.review)\n",
    "    # transform training and validation data reviews\n",
    "    xtrain = count_vec.transform(train_df.review)\n",
    "    xtest = count_vec.transform(test_df.review)\n",
    "    # initialize logistic regression model\n",
    "    model = linear_model.LogisticRegression()\n",
    "    # fit the model on training data reviews and sentiment\n",
    "    model.fit(xtrain, train_df.sentiment)\n",
    "    # make predictions on test data\n",
    "    # threshold for predictions is 0.5\n",
    "    preds = model.predict(xtest)\n",
    "    # calculate accuracy\n",
    "    accuracy = metrics.accuracy_score(test_df.sentiment, preds)\n",
    "    print(f\"Fold: {fold_}\")\n",
    "    print(f\"Accuracy = {accuracy}\")\n",
    "    print(\"\")"
   ]
  },
  {
   "cell_type": "code",
   "execution_count": 9,
   "metadata": {},
   "outputs": [
    {
     "name": "stdout",
     "output_type": "stream",
     "text": [
      "Fold: 0\n",
      "Accuracy = 0.8493\n",
      "\n",
      "Fold: 1\n",
      "Accuracy = 0.8429\n",
      "\n",
      "Fold: 2\n",
      "Accuracy = 0.8478\n",
      "\n",
      "Fold: 3\n",
      "Accuracy = 0.8382\n",
      "\n",
      "Fold: 4\n",
      "Accuracy = 0.84\n",
      "\n"
     ]
    }
   ],
   "source": [
    "# import what we need\n",
    "import pandas as pd\n",
    "from nltk.tokenize import word_tokenize\n",
    "from sklearn import naive_bayes\n",
    "from sklearn import metrics\n",
    "from sklearn import model_selection\n",
    "from sklearn.feature_extraction.text import CountVectorizer\n",
    "\n",
    "# read the training data\n",
    "df = pd.read_csv(\"./imdb/IMDB Dataset.csv\")\n",
    "# map positive to 1 and negative to 0\n",
    "df.sentiment = df.sentiment.apply(\n",
    "    lambda x: 1 if x == \"positive\" else 0\n",
    ")\n",
    "# we create a new column called kfold and fill it with -1\n",
    "df[\"kfold\"] = -1\n",
    "# the next step is to randomize the rows of the data\n",
    "df = df.sample(frac=1).reset_index(drop=True)\n",
    "# fetch labels\n",
    "y = df.sentiment.values\n",
    "# initiate the kfold class from model_selection module\n",
    "kf = model_selection.StratifiedKFold(n_splits=5)\n",
    "# fill the new kfold column\n",
    "for f, (t_, v_) in enumerate(kf.split(X=df, y=y)):\n",
    "    df.loc[v_, 'kfold'] = f\n",
    "# we go over the folds created\n",
    "for fold_ in range(5):\n",
    "    # temporary dataframes for train and test\n",
    "    train_df = df[df.kfold != fold_].reset_index(drop=True)\n",
    "\n",
    "    test_df = df[df.kfold == fold_].reset_index(drop=True)\n",
    "    # initialize CountVectorizer with NLTK's word_tokenize\n",
    "    # function as tokenizer\n",
    "    count_vec = CountVectorizer(\n",
    "        tokenizer=word_tokenize,\n",
    "        token_pattern=None\n",
    "    )\n",
    "    # fit count_vec on training data reviews\n",
    "    count_vec.fit(train_df.review)\n",
    "    # transform training and validation data reviews\n",
    "    xtrain = count_vec.transform(train_df.review)\n",
    "    xtest = count_vec.transform(test_df.review)\n",
    "    \n",
    "    # 朴素贝叶斯，更快，NLP中用的更多\n",
    "    # initialize naive bayes model\n",
    "    model = naive_bayes.MultinomialNB()\n",
    "    # fit the model on training data reviews and sentiment\n",
    "    model.fit(xtrain, train_df.sentiment)\n",
    "    # make predictions on test data\n",
    "    # threshold for predictions is 0.5\n",
    "    preds = model.predict(xtest)\n",
    "    # calculate accuracy\n",
    "    accuracy = metrics.accuracy_score(test_df.sentiment, preds)\n",
    "    print(f\"Fold: {fold_}\")\n",
    "    print(f\"Accuracy = {accuracy}\")\n",
    "    print(\"\")"
   ]
  },
  {
   "attachments": {
    "image.png": {
     "image/png": "[encoded data removed]"
    }
   },
   "cell_type": "markdown",
   "metadata": {},
   "source": [
    "tf-idf\n",
    "\n",
    "考虑逆词频，当一个词出现次数很少，就用idf加大权重，当一个词出现频率很大，就用逆词频减小权重\n",
    "\n",
    "![image.png](attachment:image.png)"
   ]
  },
  {
   "cell_type": "code",
   "execution_count": 10,
   "metadata": {},
   "outputs": [
    {
     "name": "stdout",
     "output_type": "stream",
     "text": [
      "  (0, 27)\t0.2965698850220162\n",
      "  (0, 16)\t0.4428321995085722\n",
      "  (0, 14)\t0.4428321995085722\n",
      "  (0, 7)\t0.4428321995085722\n",
      "  (0, 4)\t0.35727423026525224\n",
      "  (0, 2)\t0.4428321995085722\n",
      "  (1, 27)\t0.35299699146792735\n",
      "  (1, 24)\t0.2635440111190765\n",
      "  (1, 22)\t0.2635440111190765\n",
      "  (1, 18)\t0.2635440111190765\n",
      "  (1, 15)\t0.2635440111190765\n",
      "  (1, 13)\t0.2635440111190765\n",
      "  (1, 12)\t0.2635440111190765\n",
      "  (1, 9)\t0.2635440111190765\n",
      "  (1, 8)\t0.2635440111190765\n",
      "  (1, 6)\t0.2635440111190765\n",
      "  (1, 4)\t0.42525129752567803\n",
      "  (1, 3)\t0.2635440111190765\n",
      "  (2, 27)\t0.31752680284846835\n",
      "  (2, 19)\t0.4741246485558491\n",
      "  (2, 11)\t0.4741246485558491\n",
      "  (2, 10)\t0.4741246485558491\n",
      "  (2, 5)\t0.4741246485558491\n",
      "  (3, 25)\t0.38775666010579296\n",
      "  (3, 23)\t0.38775666010579296\n",
      "  (3, 21)\t0.38775666010579296\n",
      "  (3, 20)\t0.38775666010579296\n",
      "  (3, 17)\t0.38775666010579296\n",
      "  (3, 1)\t0.38775666010579296\n",
      "  (3, 0)\t0.3128396318588854\n",
      "  (4, 26)\t0.2959842226518677\n",
      "  (4, 0)\t0.9551928286692534\n"
     ]
    }
   ],
   "source": [
    "from sklearn.feature_extraction.text import TfidfVectorizer\n",
    "from nltk.tokenize import word_tokenize\n",
    "# create a corpus of sentences\n",
    "corpus = [\n",
    "    \"hello, how are you?\",\n",
    "    \"im getting bored at home. And you? What do you think?\",\n",
    "    \"did you know about counts\",\n",
    "    \"let's see if this works!\",\n",
    "    \"YES!!!!\"\n",
    "]\n",
    "# initialize TfidfVectorizer with word_tokenize from nltk\n",
    "# as the tokenizer\n",
    "tfv = TfidfVectorizer(tokenizer=word_tokenize, token_pattern=None)\n",
    "# fit the vectorizer on corpus\n",
    "tfv.fit(corpus)\n",
    "corpus_transformed = tfv.transform(corpus)\n",
    "print(corpus_transformed)"
   ]
  },
  {
   "cell_type": "code",
   "execution_count": 11,
   "metadata": {},
   "outputs": [
    {
     "name": "stdout",
     "output_type": "stream",
     "text": [
      "Fold: 0\n",
      "Accuracy = 0.8937\n",
      "\n",
      "Fold: 1\n",
      "Accuracy = 0.8939\n",
      "\n"
     ]
    },
    {
     "name": "stderr",
     "output_type": "stream",
     "text": [
      "/home/frog/anaconda3/envs/learning_dl/lib/python3.11/site-packages/sklearn/linear_model/_logistic.py:458: ConvergenceWarning: lbfgs failed to converge (status=1):\n",
      "STOP: TOTAL NO. of ITERATIONS REACHED LIMIT.\n",
      "\n",
      "Increase the number of iterations (max_iter) or scale the data as shown in:\n",
      "    https://scikit-learn.org/stable/modules/preprocessing.html\n",
      "Please also refer to the documentation for alternative solver options:\n",
      "    https://scikit-learn.org/stable/modules/linear_model.html#logistic-regression\n",
      "  n_iter_i = _check_optimize_result(\n"
     ]
    },
    {
     "name": "stdout",
     "output_type": "stream",
     "text": [
      "Fold: 2\n",
      "Accuracy = 0.8973\n",
      "\n",
      "Fold: 3\n",
      "Accuracy = 0.8983\n",
      "\n",
      "Fold: 4\n",
      "Accuracy = 0.8978\n",
      "\n"
     ]
    },
    {
     "name": "stderr",
     "output_type": "stream",
     "text": [
      "/home/frog/anaconda3/envs/learning_dl/lib/python3.11/site-packages/sklearn/linear_model/_logistic.py:458: ConvergenceWarning: lbfgs failed to converge (status=1):\n",
      "STOP: TOTAL NO. of ITERATIONS REACHED LIMIT.\n",
      "\n",
      "Increase the number of iterations (max_iter) or scale the data as shown in:\n",
      "    https://scikit-learn.org/stable/modules/preprocessing.html\n",
      "Please also refer to the documentation for alternative solver options:\n",
      "    https://scikit-learn.org/stable/modules/linear_model.html#logistic-regression\n",
      "  n_iter_i = _check_optimize_result(\n"
     ]
    }
   ],
   "source": [
    "# import what we need\n",
    "import pandas as pd\n",
    "from nltk.tokenize import word_tokenize\n",
    "from sklearn import naive_bayes\n",
    "from sklearn import metrics\n",
    "from sklearn import model_selection\n",
    "from sklearn.feature_extraction.text import CountVectorizer\n",
    "\n",
    "# read the training data\n",
    "df = pd.read_csv(\"./imdb/IMDB Dataset.csv\")\n",
    "# map positive to 1 and negative to 0\n",
    "df.sentiment = df.sentiment.apply(\n",
    "    lambda x: 1 if x == \"positive\" else 0\n",
    ")\n",
    "# we create a new column called kfold and fill it with -1\n",
    "df[\"kfold\"] = -1\n",
    "# the next step is to randomize the rows of the data\n",
    "df = df.sample(frac=1).reset_index(drop=True)\n",
    "# fetch labels\n",
    "y = df.sentiment.values\n",
    "# initiate the kfold class from model_selection module\n",
    "kf = model_selection.StratifiedKFold(n_splits=5)\n",
    "# fill the new kfold column\n",
    "for f, (t_, v_) in enumerate(kf.split(X=df, y=y)):\n",
    "    df.loc[v_, 'kfold'] = f\n",
    "# we go over the folds created\n",
    "for fold_ in range(5):\n",
    "    # temporary dataframes for train and test\n",
    "    train_df = df[df.kfold != fold_].reset_index(drop=True)\n",
    "\n",
    "    test_df = df[df.kfold == fold_].reset_index(drop=True)\n",
    "    \n",
    "    # initialize TfidfVectorizer with NLTK's word_tokenize\n",
    "    # function as tokenizer\n",
    "    tfidf_vec = TfidfVectorizer(\n",
    "        tokenizer=word_tokenize,\n",
    "        token_pattern=None\n",
    "    )\n",
    "    # fit tfidf_vec on training data reviews\n",
    "    tfidf_vec.fit(train_df.review)\n",
    "    \n",
    "    # transform training and validation data reviews\n",
    "    xtrain = tfidf_vec.transform(train_df.review)\n",
    "    xtest = tfidf_vec.transform(test_df.review)\n",
    "    \n",
    "\n",
    "    model = linear_model.LogisticRegression()\n",
    "    # fit the model on training data reviews and sentiment\n",
    "    model.fit(xtrain, train_df.sentiment)\n",
    "    # make predictions on test data\n",
    "    # threshold for predictions is 0.5\n",
    "    preds = model.predict(xtest)\n",
    "    # calculate accuracy\n",
    "    accuracy = metrics.accuracy_score(test_df.sentiment, preds)\n",
    "    print(f\"Fold: {fold_}\")\n",
    "    print(f\"Accuracy = {accuracy}\")\n",
    "    print(\"\")"
   ]
  },
  {
   "cell_type": "markdown",
   "metadata": {},
   "source": [
    "N-grams are combinations of words in order."
   ]
  },
  {
   "cell_type": "code",
   "execution_count": 12,
   "metadata": {},
   "outputs": [
    {
     "name": "stdout",
     "output_type": "stream",
     "text": [
      "[('hi', ',', 'how'), (',', 'how', 'are'), ('how', 'are', 'you'), ('are', 'you', '?')]\n"
     ]
    }
   ],
   "source": [
    "from nltk import ngrams\n",
    "from nltk.tokenize import word_tokenize\n",
    "# let's see 3 grams\n",
    "N = 3\n",
    "# input sentence\n",
    "sentence = \"hi, how are you?\"\n",
    "# tokenized sentence\n",
    "tokenized_sentence = word_tokenize(sentence)\n",
    "# generate n_grams\n",
    "n_grams = list(ngrams(tokenized_sentence, N))\n",
    "print(n_grams)"
   ]
  },
  {
   "cell_type": "markdown",
   "metadata": {},
   "source": [
    "n-gram 和 tf-idf一起用"
   ]
  },
  {
   "cell_type": "code",
   "execution_count": 13,
   "metadata": {},
   "outputs": [
    {
     "name": "stdout",
     "output_type": "stream",
     "text": [
      "Fold: 0\n",
      "Accuracy = 0.8943\n",
      "\n"
     ]
    },
    {
     "name": "stderr",
     "output_type": "stream",
     "text": [
      "/home/frog/anaconda3/envs/learning_dl/lib/python3.11/site-packages/sklearn/linear_model/_logistic.py:458: ConvergenceWarning: lbfgs failed to converge (status=1):\n",
      "STOP: TOTAL NO. of ITERATIONS REACHED LIMIT.\n",
      "\n",
      "Increase the number of iterations (max_iter) or scale the data as shown in:\n",
      "    https://scikit-learn.org/stable/modules/preprocessing.html\n",
      "Please also refer to the documentation for alternative solver options:\n",
      "    https://scikit-learn.org/stable/modules/linear_model.html#logistic-regression\n",
      "  n_iter_i = _check_optimize_result(\n"
     ]
    },
    {
     "name": "stdout",
     "output_type": "stream",
     "text": [
      "Fold: 1\n",
      "Accuracy = 0.8937\n",
      "\n"
     ]
    },
    {
     "name": "stderr",
     "output_type": "stream",
     "text": [
      "/home/frog/anaconda3/envs/learning_dl/lib/python3.11/site-packages/sklearn/linear_model/_logistic.py:458: ConvergenceWarning: lbfgs failed to converge (status=1):\n",
      "STOP: TOTAL NO. of ITERATIONS REACHED LIMIT.\n",
      "\n",
      "Increase the number of iterations (max_iter) or scale the data as shown in:\n",
      "    https://scikit-learn.org/stable/modules/preprocessing.html\n",
      "Please also refer to the documentation for alternative solver options:\n",
      "    https://scikit-learn.org/stable/modules/linear_model.html#logistic-regression\n",
      "  n_iter_i = _check_optimize_result(\n"
     ]
    },
    {
     "name": "stdout",
     "output_type": "stream",
     "text": [
      "Fold: 2\n",
      "Accuracy = 0.8915\n",
      "\n"
     ]
    },
    {
     "name": "stderr",
     "output_type": "stream",
     "text": [
      "/home/frog/anaconda3/envs/learning_dl/lib/python3.11/site-packages/sklearn/linear_model/_logistic.py:458: ConvergenceWarning: lbfgs failed to converge (status=1):\n",
      "STOP: TOTAL NO. of ITERATIONS REACHED LIMIT.\n",
      "\n",
      "Increase the number of iterations (max_iter) or scale the data as shown in:\n",
      "    https://scikit-learn.org/stable/modules/preprocessing.html\n",
      "Please also refer to the documentation for alternative solver options:\n",
      "    https://scikit-learn.org/stable/modules/linear_model.html#logistic-regression\n",
      "  n_iter_i = _check_optimize_result(\n"
     ]
    },
    {
     "name": "stdout",
     "output_type": "stream",
     "text": [
      "Fold: 3\n",
      "Accuracy = 0.8919\n",
      "\n",
      "Fold: 4\n",
      "Accuracy = 0.8888\n",
      "\n"
     ]
    }
   ],
   "source": [
    "# import what we need\n",
    "import pandas as pd\n",
    "from nltk.tokenize import word_tokenize\n",
    "from sklearn import naive_bayes\n",
    "from sklearn import metrics\n",
    "from sklearn import model_selection\n",
    "from sklearn.feature_extraction.text import CountVectorizer\n",
    "\n",
    "# read the training data\n",
    "df = pd.read_csv(\"./imdb/IMDB Dataset.csv\")\n",
    "# map positive to 1 and negative to 0\n",
    "df.sentiment = df.sentiment.apply(\n",
    "    lambda x: 1 if x == \"positive\" else 0\n",
    ")\n",
    "# we create a new column called kfold and fill it with -1\n",
    "df[\"kfold\"] = -1\n",
    "# the next step is to randomize the rows of the data\n",
    "df = df.sample(frac=1).reset_index(drop=True)\n",
    "# fetch labels\n",
    "y = df.sentiment.values\n",
    "# initiate the kfold class from model_selection module\n",
    "kf = model_selection.StratifiedKFold(n_splits=5)\n",
    "# fill the new kfold column\n",
    "for f, (t_, v_) in enumerate(kf.split(X=df, y=y)):\n",
    "    df.loc[v_, 'kfold'] = f\n",
    "# we go over the folds created\n",
    "for fold_ in range(5):\n",
    "    # temporary dataframes for train and test\n",
    "    train_df = df[df.kfold != fold_].reset_index(drop=True)\n",
    "\n",
    "    test_df = df[df.kfold == fold_].reset_index(drop=True)\n",
    "    \n",
    "    # initialize TfidfVectorizer with NLTK's word_tokenize\n",
    "    # function as tokenizer\n",
    "    tfidf_vec = TfidfVectorizer(\n",
    "        tokenizer=word_tokenize,\n",
    "        token_pattern=None,\n",
    "        ngram_range=(1, 3)\n",
    "    )\n",
    "    # fit tfidf_vec on training data reviews\n",
    "    tfidf_vec.fit(train_df.review)\n",
    "    \n",
    "    # transform training and validation data reviews\n",
    "    xtrain = tfidf_vec.transform(train_df.review)\n",
    "    xtest = tfidf_vec.transform(test_df.review)\n",
    "    \n",
    "\n",
    "    model = linear_model.LogisticRegression()\n",
    "    # fit the model on training data reviews and sentiment\n",
    "    model.fit(xtrain, train_df.sentiment)\n",
    "    # make predictions on test data\n",
    "    # threshold for predictions is 0.5\n",
    "    preds = model.predict(xtest)\n",
    "    # calculate accuracy\n",
    "    accuracy = metrics.accuracy_score(test_df.sentiment, preds)\n",
    "    print(f\"Fold: {fold_}\")\n",
    "    print(f\"Accuracy = {accuracy}\")\n",
    "    print(\"\")"
   ]
  },
  {
   "cell_type": "markdown",
   "metadata": {},
   "source": [
    "Stemming and lemmatization: 词干提取，词形还原"
   ]
  },
  {
   "cell_type": "code",
   "execution_count": 14,
   "metadata": {},
   "outputs": [
    {
     "name": "stdout",
     "output_type": "stream",
     "text": [
      "word=fishing\n",
      "stemmed_word=fish\n",
      "lemma=fishing\n",
      "\n",
      "word=fishes\n",
      "stemmed_word=fish\n",
      "lemma=fish\n",
      "\n",
      "word=fished\n",
      "stemmed_word=fish\n",
      "lemma=fished\n",
      "\n"
     ]
    }
   ],
   "source": [
    "from nltk.stem import WordNetLemmatizer\n",
    "from nltk.stem.snowball import SnowballStemmer\n",
    "# initialize lemmatizer\n",
    "lemmatizer = WordNetLemmatizer()\n",
    "# initialize stemmer\n",
    "stemmer = SnowballStemmer(\"english\")\n",
    "words = [\"fishing\", \"fishes\", \"fished\"]\n",
    "for word in words:\n",
    "    print(f\"word={word}\")\n",
    "    print(f\"stemmed_word={stemmer.stem(word)}\")\n",
    "    print(f\"lemma={lemmatizer.lemmatize(word)}\")\n",
    "    print(\"\")"
   ]
  },
  {
   "cell_type": "markdown",
   "metadata": {},
   "source": [
    "Topic extraction\n",
    "can be done using non-negative matrix factorization (NMF) or latent semantic\n",
    "analysis (LSA), which is also popularly known as singular value decomposition or\n",
    "SVD. These are decomposition techniques that reduce the data to a given number\n",
    "of components. You can fit any of these on sparse matrix obtained from\n",
    "CountVectorizer or TfidfVectorizer."
   ]
  },
  {
   "cell_type": "code",
   "execution_count": 17,
   "metadata": {},
   "outputs": [
    {
     "name": "stdout",
     "output_type": "stream",
     "text": [
      "['the', ',', '.', 'a', 'and']\n"
     ]
    }
   ],
   "source": [
    "import pandas as pd\n",
    "from nltk.tokenize import word_tokenize\n",
    "from sklearn import decomposition\n",
    "from sklearn.feature_extraction.text import TfidfVectorizer\n",
    "# create a corpus of sentences\n",
    "# we read only 10k samples from training data\n",
    "# for this example\n",
    "corpus = pd.read_csv(\"./imdb/IMDB Dataset.csv\", nrows=10000)\n",
    "corpus = corpus.review.values\n",
    "# initialize TfidfVectorizer with word_tokenize from nltk\n",
    "# as the tokenizer\n",
    "tfv = TfidfVectorizer(tokenizer=word_tokenize, token_pattern=None)\n",
    "# fit the vectorizer on corpus\n",
    "tfv.fit(corpus)\n",
    "# transform the corpus using tfidf\n",
    "corpus_transformed = tfv.transform(corpus)\n",
    "# initialize SVD with 10 components\n",
    "svd = decomposition.TruncatedSVD(n_components=10)\n",
    "# fit SVD\n",
    "corpus_svd = svd.fit(corpus_transformed)\n",
    "# choose first sample and create a dictionary\n",
    "# of feature names and their scores from svd\n",
    "# you can change the sample_index variable to\n",
    "# get dictionary for any other sample\n",
    "sample_index = 0\n",
    "feature_scores = dict(\n",
    "    zip(\n",
    "        tfv.get_feature_names_out(),\n",
    "        corpus_svd.components_[sample_index]\n",
    "    )\n",
    ")\n",
    "# once we have the dictionary, we can now\n",
    "# sort it in decreasing order and get the\n",
    "# top N topics\n",
    "N = 5\n",
    "print(sorted(feature_scores, key=feature_scores.get, reverse=True)[:N])"
   ]
  },
  {
   "cell_type": "code",
   "execution_count": 22,
   "metadata": {},
   "outputs": [
    {
     "data": {
      "text/plain": [
       "array([-3.36499632e-05,  7.54662397e-01,  5.80854763e-03, ...,\n",
       "        2.54111607e-04,  3.16457081e-05,  9.52717338e-05])"
      ]
     },
     "execution_count": 22,
     "metadata": {},
     "output_type": "execute_result"
    }
   ],
   "source": [
    "corpus_svd.components_[sample_index]"
   ]
  },
  {
   "cell_type": "code",
   "execution_count": 19,
   "metadata": {},
   "outputs": [
    {
     "name": "stdout",
     "output_type": "stream",
     "text": [
      "['the', ',', '.', 'a', 'and']\n",
      "['br', '<', '>', '/', '-']\n",
      "['i', 'movie', '!', 'it', 'was']\n",
      "[',', '!', \"''\", '``', 'you']\n",
      "['!', 'the', \"''\", '``', '...']\n"
     ]
    }
   ],
   "source": [
    "N = 5\n",
    "for sample_index in range(5):\n",
    "    feature_scores = dict(\n",
    "        zip(\n",
    "            tfv.get_feature_names_out(),\n",
    "            corpus_svd.components_[sample_index]\n",
    "        )\n",
    "    )\n",
    "    print(\n",
    "        sorted(\n",
    "            feature_scores,\n",
    "            key=feature_scores.get,\n",
    "            reverse=True\n",
    "        )[:N]\n",
    "    )"
   ]
  },
  {
   "cell_type": "markdown",
   "metadata": {},
   "source": [
    "去掉特殊符号和空格，还可以去掉stop words"
   ]
  },
  {
   "cell_type": "code",
   "execution_count": 28,
   "metadata": {},
   "outputs": [],
   "source": [
    "import re\n",
    "import string\n",
    "def clean_text(s):\n",
    "    \"\"\"\n",
    "    This function cleans the text a bit\n",
    "    :param s: string\n",
    "    :return: cleaned string\n",
    "    \"\"\"\n",
    "    # split by all whitespaces\n",
    "    s = s.split()\n",
    "    # join tokens by single space\n",
    "    # why we do this?\n",
    "    # this will remove all kinds of weird space\n",
    "    # \"hi.   how are you\" becomes\n",
    "    # \"hi. how are you\"\n",
    "    s = \" \".join(s)\n",
    "    # remove all punctuations using regex and string module\n",
    "    s = re.sub(f'[{re.escape(string.punctuation)}]', '', s)\n",
    "    # you can add more cleaning here if you want\n",
    "    # and then return the cleaned string\n",
    "    return s"
   ]
  },
  {
   "cell_type": "code",
   "execution_count": 29,
   "metadata": {},
   "outputs": [],
   "source": [
    "# create a corpus of sentences\n",
    "# we read only 10k samples from training data\n",
    "# for this example\n",
    "corpus = pd.read_csv(\"./imdb/IMDB Dataset.csv\", nrows=10000)\n",
    "corpus.loc[:, \"review\"] = corpus.review.apply(clean_text)"
   ]
  },
  {
   "cell_type": "code",
   "execution_count": 32,
   "metadata": {},
   "outputs": [
    {
     "name": "stdout",
     "output_type": "stream",
     "text": [
      "['review', 'sentiment']\n"
     ]
    }
   ],
   "source": [
    "# initialize TfidfVectorizer with word_tokenize from nltk\n",
    "# as the tokenizer\n",
    "tfv = TfidfVectorizer(tokenizer=word_tokenize, token_pattern=None)\n",
    "# fit the vectorizer on corpus\n",
    "tfv.fit(corpus)\n",
    "# transform the corpus using tfidf\n",
    "corpus_transformed = tfv.transform(corpus)\n",
    "# initialize SVD with 10 components\n",
    "svd = decomposition.TruncatedSVD(n_components=2)\n",
    "# fit SVD\n",
    "corpus_svd = svd.fit(corpus_transformed)\n",
    "# choose first sample and create a dictionary\n",
    "# of feature names and their scores from svd\n",
    "# you can change the sample_index variable to\n",
    "# get dictionary for any other sample\n",
    "sample_index = 0\n",
    "feature_scores = dict(\n",
    "    zip(\n",
    "        tfv.get_feature_names_out(),\n",
    "        corpus_svd.components_[sample_index]\n",
    "    )\n",
    ")\n",
    "# once we have the dictionary, we can now\n",
    "# sort it in decreasing order and get the\n",
    "# top N topics\n",
    "N = 5\n",
    "print(sorted(feature_scores, key=feature_scores.get, reverse=True)[:N])"
   ]
  },
  {
   "cell_type": "code",
   "execution_count": 33,
   "metadata": {},
   "outputs": [],
   "source": [
    "import numpy as np\n",
    "def sentence_to_vec(s, embedding_dict, stop_words, tokenizer):\n",
    "    \"\"\"\n",
    "    Given a sentence and other information,\n",
    "    this function returns embedding for the whole sentence\n",
    "    :param s: sentence, string\n",
    "    :param embedding_dict: dictionary word:vector\n",
    "    :param stop_words: list of stop words, if any\n",
    "    :param tokenizer: a tokenization function\n",
    "    \"\"\"\n",
    "    # convert sentence to string and lowercase it\n",
    "    words = str(s).lower()\n",
    "    # tokenize the sentence\n",
    "    words = tokenizer(words)\n",
    "    # remove stop word tokens\n",
    "    words = [w for w in words if not w in stop_words]\n",
    "    # keep only alpha-numeric tokens\n",
    "    words = [w for w in words if w.isalpha()]\n",
    "    # initialize empty list to store embeddings\n",
    "    M = []\n",
    "    for w in words:\n",
    "        # for every word, fetch the embedding from\n",
    "        # the dictionary and append to list of\n",
    "        # embeddings\n",
    "        if w in embedding_dict:\n",
    "            M.append(embedding_dict[w])\n",
    "    # if we dont have any vectors, return zeros\n",
    "    if len(M) == 0:\n",
    "        return np.zeros(300)\n",
    "    # convert list of embeddings to array\n",
    "    M = np.array(M)\n",
    "    # calculate sum over axis=0\n",
    "    v = M.sum(axis=0)\n",
    "    # return normalized vector\n",
    "    return v / np.sqrt((v ** 2).sum())"
   ]
  },
  {
   "cell_type": "code",
   "execution_count": 36,
   "metadata": {},
   "outputs": [
    {
     "name": "stdout",
     "output_type": "stream",
     "text": [
      "Loading embeddings\n",
      "Creating sentence vectors\n",
      "Training fold: 0\n"
     ]
    },
    {
     "name": "stderr",
     "output_type": "stream",
     "text": [
      "/home/frog/anaconda3/envs/learning_dl/lib/python3.11/site-packages/sklearn/linear_model/_logistic.py:458: ConvergenceWarning: lbfgs failed to converge (status=1):\n",
      "STOP: TOTAL NO. of ITERATIONS REACHED LIMIT.\n",
      "\n",
      "Increase the number of iterations (max_iter) or scale the data as shown in:\n",
      "    https://scikit-learn.org/stable/modules/preprocessing.html\n",
      "Please also refer to the documentation for alternative solver options:\n",
      "    https://scikit-learn.org/stable/modules/linear_model.html#logistic-regression\n",
      "  n_iter_i = _check_optimize_result(\n"
     ]
    },
    {
     "name": "stdout",
     "output_type": "stream",
     "text": [
      "Accuracy = 0.8619\n",
      "\n",
      "Training fold: 1\n",
      "Accuracy = 0.8616\n",
      "\n",
      "Training fold: 2\n",
      "Accuracy = 0.863\n",
      "\n",
      "Training fold: 3\n",
      "Accuracy = 0.8618\n",
      "\n",
      "Training fold: 4\n",
      "Accuracy = 0.8561\n",
      "\n"
     ]
    }
   ],
   "source": [
    "# fasttext.py\n",
    "import io\n",
    "import numpy as np\n",
    "import pandas as pd\n",
    "from nltk.tokenize import word_tokenize\n",
    "from sklearn import linear_model\n",
    "from sklearn import metrics\n",
    "from sklearn import model_selection\n",
    "from sklearn.feature_extraction.text import TfidfVectorizer\n",
    "\n",
    "def load_vectors(fname):\n",
    "    # taken from: https://fasttext.cc/docs/en/english-vectors.html\n",
    "    fin = io.open(\n",
    "        fname,\n",
    "        'r',\n",
    "        encoding='utf-8',\n",
    "        newline='\\n',\n",
    "        errors='ignore'\n",
    "    )\n",
    "    n, d = map(int, fin.readline().split())\n",
    "    data = {}\n",
    "    for line in fin:\n",
    "        tokens = line.rstrip().split(' ')\n",
    "        data[tokens[0]] = list(map(float, tokens[1:]))\n",
    "    return data\n",
    "\n",
    "df = pd.read_csv(\"./imdb/IMDB Dataset.csv\")\n",
    "\n",
    "# map positive to 1 and negative to 0\n",
    "df.sentiment = df.sentiment.apply(\n",
    "    lambda x: 1 if x == \"positive\" else 0\n",
    ")\n",
    "# the next step is to randomize the rows of the data\n",
    "df = df.sample(frac=1).reset_index(drop=True)\n",
    "# load embeddings into memory\n",
    "print(\"Loading embeddings\")\n",
    "embeddings = load_vectors(\"./imdb/crawl-300d-2M.vec\")\n",
    "# create sentence embeddings\n",
    "print(\"Creating sentence vectors\")\n",
    "vectors = []\n",
    "for review in df.review.values:\n",
    "    vectors.append(\n",
    "        sentence_to_vec(\n",
    "            s = review,\n",
    "            embedding_dict = embeddings,\n",
    "            stop_words = [],\n",
    "            tokenizer = word_tokenize\n",
    "        )\n",
    "    )\n",
    "vectors = np.array(vectors)\n",
    "# fetch labels\n",
    "y = df.sentiment.values\n",
    "# initiate the kfold class from model_selection module\n",
    "kf = model_selection.StratifiedKFold(n_splits=5)\n",
    "# fill the new kfold column\n",
    "for fold_, (t_, v_) in enumerate(kf.split(X=vectors, y=y)):\n",
    "    print(f\"Training fold: {fold_}\")\n",
    "    # temporary dataframes for train and test\n",
    "    xtrain = vectors[t_, :]\n",
    "    ytrain = y[t_]\n",
    "    xtest = vectors[v_, :]\n",
    "    ytest = y[v_]\n",
    "    # initialize logistic regression model\n",
    "    model = linear_model.LogisticRegression()\n",
    "    # fit the model on training data reviews and sentiment\n",
    "    model.fit(xtrain, ytrain)\n",
    "    # make predictions on test data\n",
    "    # threshold for predictions is 0.5\n",
    "    preds = model.predict(xtest)\n",
    "    # calculate accuracy\n",
    "    accuracy = metrics.accuracy_score(ytest, preds)\n",
    "    print(f\"Accuracy = {accuracy}\")\n",
    "    print(\"\")"
   ]
  },
  {
   "cell_type": "markdown",
   "metadata": {},
   "source": [
    "双向lstm"
   ]
  },
  {
   "cell_type": "code",
   "execution_count": null,
   "metadata": {},
   "outputs": [],
   "source": [
    "# create_folds.py\n",
    "# import pandas and model_selection module of scikit-learn\n",
    "import pandas as pd\n",
    "from sklearn import model_selection\n",
    "def create_folds():\n",
    "    # Read training data\n",
    "    df = pd.read_csv(\"../input/imdb.csv\")\n",
    "    # map positive to 1 and negative to 0\n",
    "    df.sentiment = df.sentiment.apply(\n",
    "    lambda x: 1 if x == \"positive\" else 0\n",
    "    )\n",
    "    # we create a new column called kfold and fill it with -1\n",
    "    df[\"kfold\"] = -1\n",
    "    # the next step is to randomize the rows of the data\n",
    "    df = df.sample(frac=1).reset_index(drop=True)\n",
    "    # fetch labels\n",
    "    y = df.sentiment.values\n",
    "    # initiate the kfold class from model_selection module\n",
    "    kf = model_selection.StratifiedKFold(n_splits=5)\n",
    "    # fill the new kfold column\n",
    "    for f, (t_, v_) in enumerate(kf.split(X=df, y=y)):\n",
    "        df.loc[v_, 'kfold'] = f\n",
    "    # save the new csv with kfold column\n",
    "    df.to_csv(\"../input/imdb_folds.csv\", index=False)\n",
    "    \n",
    "    \n",
    "import torch\n",
    "class IMDBDataset:\n",
    "    def __init__(self, reviews, targets):\n",
    "        \"\"\"\n",
    "        :param reviews: this is a numpy array\n",
    "        :param targets: a vector, numpy array\n",
    "        \"\"\"\n",
    "        self.reviews = reviews\n",
    "        self.target = targets\n",
    "    def __len__(self):\n",
    "        # returns length of the dataset\n",
    "        return len(self.reviews)\n",
    "    def __getitem__(self, item):\n",
    "        # for any given item, which is an int,\n",
    "        # return review and targets as torch tensor\n",
    "        # item is the index of the item in concern\n",
    "        review = self.reviews[item, :]\n",
    "        target = self.target[item]\n",
    "        return {  \n",
    "                \"review\": torch.tensor(review, dtype=torch.long),\n",
    "                \"target\": torch.tensor(target, dtype=torch.float)\n",
    "        }\n",
    "\n",
    "# lstm.py\n",
    "import torch\n",
    "import torch.nn as nn\n",
    "class LSTM(nn.Module):\n",
    "    def __init__(self, embedding_matrix):\n",
    "        \"\"\"\n",
    "        :param embedding_matrix: numpy array with vectors for all words\n",
    "        \"\"\"\n",
    "        super(LSTM, self).__init__()\n",
    "        # number of words = number of rows in embedding matrix\n",
    "        num_words = embedding_matrix.shape[0]\n",
    "        # dimension of embedding is num of columns in the matrix\n",
    "        embed_dim = embedding_matrix.shape[1]\n",
    "        # we define an input embedding layer\n",
    "        self.embedding = nn.Embedding(\n",
    "            num_embeddings=num_words,\n",
    "            embedding_dim=embed_dim\n",
    "        )\n",
    "        # embedding matrix is used as weights of\n",
    "        # the embedding layer\n",
    "        self.embedding.weight = nn.Parameter(\n",
    "            torch.tensor(\n",
    "                embedding_matrix,\n",
    "                dtype=torch.float32\n",
    "            )\n",
    "        )\n",
    "        # we dont want to train the pretrained embeddings\n",
    "        self.embedding.weight.requires_grad = False\n",
    "        # a simple bidirectional LSTM with\n",
    "        # hidden size of 128\n",
    "        self.lstm = nn.LSTM(\n",
    "            embed_dim,\n",
    "            128,\n",
    "            bidirectional=True,\n",
    "            batch_first=True,\n",
    "        )\n",
    "        # output layer which is a linear layer\n",
    "        # we have only one output\n",
    "        # input (512) = 128 + 128 for mean and same for max pooling\n",
    "        self.out = nn.Linear(512, 1)\n",
    "        \n",
    "    def forward(self, x):\n",
    "        # pass data through embedding layer\n",
    "        # the input is just the tokens\n",
    "        x = self.embedding(x)\n",
    "        # move embedding output to lstm\n",
    "        x, _ = self.lstm(x)\n",
    "        # apply mean and max pooling on lstm output\n",
    "        avg_pool = torch.mean(x, 1)\n",
    "        max_pool, _ = torch.max(x, 1)\n",
    "        # concatenate mean and max pooling\n",
    "        # this is why size is 512\n",
    "        # 128 for each direction = 256\n",
    "        # avg_pool = 256 and max_pool = 256\n",
    "        out = torch.cat((avg_pool, max_pool), 1)\n",
    "        # pass through the output layer and return the output\n",
    "        out = self.out(out)\n",
    "        # return linear output\n",
    "        return out\n",
    "        \n",
    "\n",
    "# engine.py\n",
    "import torch\n",
    "import torch.nn as nn\n",
    "def train(data_loader, model, optimizer, device):\n",
    "    \"\"\"    \n",
    "    This is the main training function that trains model\n",
    "    for one epoch\n",
    "    :param data_loader: this is the torch dataloader\n",
    "    :param model: model (lstm model)\n",
    "    :param optimizer: torch optimizer, e.g. adam, sgd, etc.\n",
    "    :param device: this can be \"cuda\" or \"cpu\"\n",
    "    \"\"\"\n",
    "    # set model to training mode\n",
    "    model.train()\n",
    "    # go through batches of data in data loader\n",
    "    for data in data_loader:\n",
    "        # fetch review and target from the dict\n",
    "        reviews = data[\"review\"]\n",
    "        targets = data[\"target\"]\n",
    "        # move the data to device that we want to use\n",
    "        reviews = reviews.to(device, dtype=torch.long)\n",
    "        targets = targets.to(device, dtype=torch.float)\n",
    "        # clear the gradients\n",
    "        optimizer.zero_grad()\n",
    "        # make predictions from the model\n",
    "        predictions = model(reviews)\n",
    "        # calculate the loss\n",
    "        loss = nn.BCEWithLogitsLoss()(\n",
    "        predictions,\n",
    "        targets.view(-1, 1)\n",
    "        )\n",
    "        # compute gradient of loss w.r.t.\n",
    "        # all parameters of the model that are trainable\n",
    "        loss.backward()\n",
    "        # single optimization step\n",
    "        optimizer.step()\n",
    "\n",
    "def evaluate(data_loader, model, device):\n",
    "    # initialize empty lists to store predictions\n",
    "    # and targets\n",
    "    final_predictions = []\n",
    "    final_targets = []\n",
    "    # put the model in eval mode \n",
    "    model.eval()\n",
    "    # disable gradient calculation\n",
    "    with torch.no_grad():\n",
    "        for data in data_loader:\n",
    "            reviews = data[\"review\"]\n",
    "            targets = data[\"target\"]\n",
    "            reviews = reviews.to(device, dtype=torch.long)\n",
    "            targets = targets.to(device, dtype=torch.float)\n",
    "            # make predictions\n",
    "            predictions = model(reviews)\n",
    "            # move predictions and targets to list\n",
    "            # we need to move predictions and targets to cpu too\n",
    "            predictions = predictions.cpu().numpy().tolist()\n",
    "            targets = data[\"target\"].cpu().numpy().tolist()\n",
    "            final_predictions.extend(predictions)\n",
    "            final_targets.extend(targets)\n",
    "    # return final predictions and targets\n",
    "    return final_predictions, final_targets\n",
    "\n",
    "# train.py\n",
    "import io\n",
    "import torch\n",
    "import numpy as np\n",
    "import pandas as pd\n",
    "# yes, we use tensorflow\n",
    "# but not for training the model!\n",
    "import tensorflow as tf\n",
    "from sklearn import metrics\n",
    "import config\n",
    "import dataset\n",
    "import engine\n",
    "import lstm\n",
    "\n",
    "def load_vectors(fname):\n",
    "    # taken from: https://fasttext.cc/docs/en/english-vectors.html\n",
    "    fin = io.open(\n",
    "        fname,\n",
    "        'r',\n",
    "        encoding='utf-8',\n",
    "        newline='\\n',\n",
    "        errors='ignore'\n",
    "    )\n",
    "    n, d = map(int, fin.readline().split())\n",
    "    data = {}\n",
    "    for line in fin:\n",
    "        tokens = line.rstrip().split(' ')\n",
    "        data[tokens[0]] = list(map(float, tokens[1:]))\n",
    "    return data\n",
    "\n",
    "def create_embedding_matrix(word_index, embedding_dict):\n",
    "    \"\"\"\n",
    "    This function creates the embedding matrix.\n",
    "    :param word_index: a dictionary with word:index_value\n",
    "    :param embedding_dict: a dictionary with word:embedding_vector\n",
    "    :return: a numpy array with embedding vectors for all known words\n",
    "    \"\"\"\n",
    "    # initialize matrix with zeros\n",
    "    embedding_matrix = np.zeros((len(word_index) + 1, 300))\n",
    "    # loop over all the words\n",
    "    for word, i in word_index.items():\n",
    "        # if word is found in pre-trained embeddings,\n",
    "        # update the matrix. if the word is not found,\n",
    "        # the vector is zeros!\n",
    "        if word in embedding_dict:\n",
    "            embedding_matrix[i] = embedding_dict[word]\n",
    "    # return embedding matrix\n",
    "    return embedding_matrix\n",
    "\n",
    "def run(df, fold):\n",
    "    \"\"\"\n",
    "    Run training and validation for a given fold\n",
    "    and dataset\n",
    "    :param df: pandas dataframe with kfold column\n",
    "    :param fold: current fold, int\n",
    "    \"\"\"\n",
    "    # fetch training dataframe\n",
    "    train_df = df[df.kfold != fold].reset_index(drop=True)\n",
    "    # fetch validation dataframe\n",
    "    valid_df = df[df.kfold == fold].reset_index(drop=True)\n",
    "    print(\"Fitting tokenizer\")\n",
    "    # we use tf.keras for tokenization\n",
    "    # you can use your own tokenizer and then you can\n",
    "    # get rid of tensorflow\n",
    "    tokenizer = tf.keras.preprocessing.text.Tokenizer()\n",
    "    tokenizer.fit_on_texts(df.review.values.tolist())\n",
    "    # convert training data to sequences\n",
    "    # for example : \"bad movie\" gets converted to\n",
    "    # [24, 27] where 24 is the index for bad and 27 is the\n",
    "    # index for movie\n",
    "    xtrain = tokenizer.texts_to_sequences(train_df.review.values)\n",
    "    # similarly convert validation data to\n",
    "    # sequences\n",
    "    xtest = tokenizer.texts_to_sequences(valid_df.review.values)\n",
    "    # zero pad the training sequences given the maximum length\n",
    "    # this padding is done on left hand side\n",
    "    # if sequence is > MAX_LEN, it is truncated on left hand side too\n",
    "    xtrain = tf.keras.preprocessing.sequence.pad_sequences(\n",
    "        xtrain, maxlen=config.MAX_LEN\n",
    "    )\n",
    "    # zero pad the validation sequences\n",
    "    xtest = tf.keras.preprocessing.sequence.pad_sequences(\n",
    "        xtest, maxlen=config.MAX_LEN\n",
    "    )\n",
    "    # initialize dataset class for training\n",
    "    train_dataset = dataset.IMDBDataset(\n",
    "        reviews=xtrain,\n",
    "        targets=train_df.sentiment.values\n",
    "    )\n",
    "    # create torch dataloader for training\n",
    "    # torch dataloader loads the data using dataset\n",
    "    # class in batches specified by batch size\n",
    "    train_data_loader = torch.utils.data.DataLoader(\n",
    "        train_dataset,\n",
    "        batch_size=config.TRAIN_BATCH_SIZE,\n",
    "        num_workers=2\n",
    "    )\n",
    "    # initialize dataset class for validation\n",
    "    valid_dataset = dataset.IMDBDataset(\n",
    "        reviews=xtest,\n",
    "        targets=valid_df.sentiment.values\n",
    "    )\n",
    "    # create torch dataloader for validation\n",
    "    valid_data_loader = torch.utils.data.DataLoader(\n",
    "        valid_dataset,\n",
    "        batch_size=config.VALID_BATCH_SIZE,\n",
    "        num_workers=1\n",
    "    )\n",
    "    print(\"Loading embeddings\")\n",
    "    # load embeddings as shown previously\n",
    "    embedding_dict = load_vectors(\"../input/crawl-300d-2M.vec\")\n",
    "    embedding_matrix = create_embedding_matrix(\n",
    "    tokenizer.word_index, embedding_dict\n",
    "    )\n",
    "    # create torch device, since we use gpu, we are using cuda\n",
    "    device = torch.device(\"cuda\")\n",
    "    # fetch our LSTM model\n",
    "    model = lstm.LSTM(embedding_matrix)\n",
    "    # send model to device\n",
    "    model.to(device)\n",
    "    # initialize Adam optimizer\n",
    "    optimizer = torch.optim.Adam(model.parameters(), lr=1e-3)\n",
    "    print(\"Training Model\")\n",
    "    # set best accuracy to zero\n",
    "    best_accuracy = 0\n",
    "    # set early stopping counter to zero\n",
    "    early_stopping_counter = 0\n",
    "    # train and validate for all epochs\n",
    "    for epoch in range(config.EPOCHS):\n",
    "        # train one epoch\n",
    "        engine.train(train_data_loader, model, optimizer, device)\n",
    "        # validate\n",
    "        outputs, targets = engine.evaluate(\n",
    "            valid_data_loader, model, device\n",
    "        )\n",
    "        # use threshold of 0.5\n",
    "        # please note we are using linear layer and no sigmoid\n",
    "        # you should do this 0.5 threshold after sigmoid\n",
    "        outputs = np.array(outputs) >= 0.5\n",
    "        # calculate accuracy\n",
    "        accuracy = metrics.accuracy_score(targets, outputs)\n",
    "        print(\n",
    "            f\"FOLD:{fold}, Epoch: {epoch}, Accuracy Score = {accuracy}\"\n",
    "        )\n",
    "        # simple early stopping\n",
    "        if accuracy > best_accuracy:\n",
    "            best_accuracy = accuracy\n",
    "        else:\n",
    "            early_stopping_counter += 1\n",
    "        if early_stopping_counter > 2:\n",
    "            break\n",
    "\n",
    "# load data\n",
    "df = pd.read_csv(\"../input/imdb_folds.csv\")\n",
    "# train for all folds\n",
    "run(df, fold=0)\n",
    "run(df, fold=1)\n",
    "run(df, fold=2)\n",
    "run(df, fold=3)\n",
    "run(df, fold=4)"
   ]
  }
 ],
 "metadata": {
  "kernelspec": {
   "display_name": "learning_dl",
   "language": "python",
   "name": "python3"
  },
  "language_info": {
   "codemirror_mode": {
    "name": "ipython",
    "version": 3
   },
   "file_extension": ".py",
   "mimetype": "text/x-python",
   "name": "python",
   "nbconvert_exporter": "python",
   "pygments_lexer": "ipython3",
   "version": "3.11.3"
  }
 },
 "nbformat": 4,
 "nbformat_minor": 2
}
